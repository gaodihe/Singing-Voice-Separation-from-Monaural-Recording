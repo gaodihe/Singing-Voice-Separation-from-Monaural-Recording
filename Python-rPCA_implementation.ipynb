{
 "cells": [
  {
   "cell_type": "code",
   "execution_count": 1,
   "metadata": {
    "collapsed": true
   },
   "outputs": [],
   "source": [
    "import bisect\n",
    "import librosa\n",
    "import numpy as np\n",
    "from numpy.linalg import norm\n",
    "from numpy.linalg import svd \n",
    "from scipy.sparse.linalg import svds\n",
    "import scipy.io.wavfile as wavfile"
   ]
  },
  {
   "cell_type": "code",
   "execution_count": 3,
   "metadata": {
    "collapsed": false
   },
   "outputs": [],
   "source": [
    "def load_data(path, filename, sampling_rate=16000, mix=False):\n",
    "    '''\n",
    "    Function to load the '.wav' data\n",
    "    @param path: str, where data is read from\n",
    "    @param filename: str, file name, should end in '.wav'\n",
    "    @param sampling rate: int, default is 16000. 22,050 is also a common value but not applicable to this project\n",
    "    @param mix: bool, if True, then the left sound track and right sound track are mixed to a mono track signal\n",
    "    '''\n",
    "    song = librosa.load(path + filename, sr = sampling_rate, mono=mix)[0]\n",
    "    if mix:\n",
    "        return song\n",
    "    else:\n",
    "        return song[0], song[1]\n",
    "    \n",
    "def save_data(path, filename, data, sampling_rate=16000):\n",
    "    wavfile.write(path+filename, rate=sampling_rate, data=data)"
   ]
  },
  {
   "cell_type": "code",
   "execution_count": 35,
   "metadata": {
    "collapsed": true
   },
   "outputs": [],
   "source": [
    "import rpca\n",
    "def separate_signal_with_RPCA(M, improve=False):\n",
    "    #Short-Time Fourier Transformation\n",
    "    M_stft = librosa.stft(M, n_fft=1024, hop_length=256)\n",
    "    # Get magnitude and phase\n",
    "    M_mag, M_phase = librosa.magphase(M_stft)\n",
    "    # RPCA\n",
    "    L_hat, S_hat, r_hat, n_iter_hat = rpca.pcp_alm(M_mag)\n",
    "    # Append phase back to result\n",
    "    L_output = np.multiply(L_hat, M_phase)\n",
    "    S_output = np.multiply(S_hat, M_phase)\n",
    "    \n",
    "    if improve:\n",
    "        L_hat, S_hat, r_hat, n_iter_hat = rpca.pcp_alm(np.abs(S_output))\n",
    "        S_output = np.multiply(S_hat, M_phase)\n",
    "        L_output = M_stft - S_output\n",
    "\n",
    "    return M_stft, L_output, S_output"
   ]
  },
  {
   "cell_type": "markdown",
   "metadata": {
    "collapsed": true
   },
   "source": [
    "def get_LS_istft(M):\n",
    "    M_stft = librosa.stft(M, n_fft=1024, hop_length=256)\n",
    "    \n",
    "    M_mag, M_phase = librosa.magphase(M_stft)\n",
    "    L_hat, S_hat, r_hat, n_iter_hat = pcp_alm(M_mag)\n",
    "    \n",
    "    # Append phase back to result\n",
    "    L_output = np.multiply(L_hat, M_phase)\n",
    "    S_output = np.multiply(S_hat, M_phase)\n",
    "    \n",
    "    # Inverse Short-Time Fourier Transformation\n",
    "    #L_istft = librosa.istft(L_output, hop_length=256)\n",
    "    #S_istft = librosa.istft(S_output, hop_length=256)\n",
    "    return M_stft, L_output, S_output"
   ]
  },
  {
   "cell_type": "code",
   "execution_count": 12,
   "metadata": {
    "collapsed": false
   },
   "outputs": [],
   "source": [
    "def time_freq_masking(M_stft, L_hat, S_hat, gain):\n",
    "    mask = np.abs(S_hat)- gain* np.abs(L_hat)\n",
    "    print(mask.shape)\n",
    "    mask = (mask>0) * 1\n",
    "    X_sing = np.multiply(mask, M_stft)\n",
    "    X_music = np.multiply(1-mask, M_stft)\n",
    "    return X_sing, X_music"
   ]
  },
  {
   "cell_type": "markdown",
   "metadata": {},
   "source": [
    "# Example\n",
    "data_path = '../data/MIR-1K_for_MIREX/Wavfile/'\n",
    "output_path = '../output/'\n",
    "filename = 'abjones_1_01.wav'\n",
    "music, voice = load_data(data_path, filename)\n",
    "\n",
    "# Short-Time Fourier Transformation\n",
    "music_stft = librosa.stft(music)\n",
    "voice_stft = librosa.stft(voice)"
   ]
  },
  {
   "cell_type": "code",
   "execution_count": 13,
   "metadata": {
    "collapsed": false
   },
   "outputs": [],
   "source": [
    "# Example MIXED TO MONO\n",
    "data_path = '../data/MIR-1K_for_MIREX/Wavfile/'\n",
    "output_path = '../output/'\n",
    "filename = 'davidson_2_01.wav'\n",
    "M = load_data(data_path, filename, mix=True)"
   ]
  },
  {
   "cell_type": "code",
   "execution_count": 21,
   "metadata": {
    "collapsed": true
   },
   "outputs": [],
   "source": [
    "save_data(output_path, filename+'_mix.wav', data=M)"
   ]
  },
  {
   "cell_type": "code",
   "execution_count": 14,
   "metadata": {
    "collapsed": true
   },
   "outputs": [],
   "source": [
    "import time"
   ]
  },
  {
   "cell_type": "code",
   "execution_count": 16,
   "metadata": {
    "collapsed": false
   },
   "outputs": [
    {
     "name": "stdout",
     "output_type": "stream",
     "text": [
      "frob_norm 714.333\n",
      "two_norm 526.929\n",
      "one_norm 94893.4\n",
      "info_norm 38.3415\n",
      "gamma 0.0441510785688\n",
      "-60.45458221435547\n"
     ]
    }
   ],
   "source": [
    "# Short-Time Fourier Transformation\n",
    "start = time.time()\n",
    "M_stft, L_stft, S_stft = separate_signal_with_RPCA(M)\n",
    "end = time.time()\n",
    "print(start-end)"
   ]
  },
  {
   "cell_type": "code",
   "execution_count": 31,
   "metadata": {
    "collapsed": false
   },
   "outputs": [
    {
     "name": "stdout",
     "output_type": "stream",
     "text": [
      "(513, 479)\n"
     ]
    }
   ],
   "source": [
    "X_sing, X_music = time_freq_masking(M_stft, L_stft, S_stft, 1.5)"
   ]
  },
  {
   "cell_type": "code",
   "execution_count": 32,
   "metadata": {
    "collapsed": true
   },
   "outputs": [],
   "source": [
    "X_sing_istft = librosa.istft(X_sing, hop_length=256)"
   ]
  },
  {
   "cell_type": "code",
   "execution_count": 33,
   "metadata": {
    "collapsed": true
   },
   "outputs": [],
   "source": [
    "X_music_istft = librosa.istft(X_music, hop_length=256)"
   ]
  },
  {
   "cell_type": "code",
   "execution_count": 29,
   "metadata": {
    "collapsed": true
   },
   "outputs": [],
   "source": [
    "save_data(output_path, filename+'_mask1_S_output.wav', data=X_sing_istft)"
   ]
  },
  {
   "cell_type": "code",
   "execution_count": 20,
   "metadata": {
    "collapsed": true
   },
   "outputs": [],
   "source": [
    "save_data(output_path, filename+'_mask_S_output.wav', data=X_sing_istft)"
   ]
  },
  {
   "cell_type": "code",
   "execution_count": 34,
   "metadata": {
    "collapsed": true
   },
   "outputs": [],
   "source": [
    "save_data(output_path, filename+'_mask_L15_output.wav', data=X_music_istft)"
   ]
  },
  {
   "cell_type": "code",
   "execution_count": null,
   "metadata": {
    "collapsed": false,
    "scrolled": false
   },
   "outputs": [],
   "source": [
    "###test###\n",
    "\n",
    "import numpy as np\n",
    "\n",
    "n = 100\n",
    "r = 3\n",
    "np.random.seed(123)\n",
    "base = 100 + np.cumsum(np.random.randn(n, r), axis=0)\n",
    "scales = np.abs(np.random.randn(n, r))\n",
    "L = np.dot(base, scales.T)\n",
    "S = np.round(0.25 * np.random.randn(n, n))\n",
    "M = L + S\n",
    "\n",
    "L_hat, S_hat, r, n_iter = pcp_alm(M,500)\n",
    "print(np.max(np.abs(S - S_hat)))\n",
    "print(np.max(np.abs(L - L_hat)))\n",
    "print(n_iter)\n",
    "\n",
    "\n",
    "\n",
    "_, s, _ = np.linalg.svd(L, full_matrices=False)\n",
    "%print (s[s > 1e-11])\n",
    "\n",
    "_, s_hat, _ = np.linalg.svd(L_hat, full_matrices=False)\n",
    "%print (s_hat[s_hat > 1e-11])"
   ]
  },
  {
   "cell_type": "markdown",
   "metadata": {},
   "source": [
    "#### Reference\n",
    "Code Reference: https://github.com/apapanico/sklearn-rpca/blob/master/sklearnrpca/rpca_alm.py \n",
    "Modified based on the alternativate direction algorithm presented in the original paper: https://statweb.stanford.edu/~candes/papers/RobustPCA.pdf"
   ]
  },
  {
   "cell_type": "code",
   "execution_count": null,
   "metadata": {
    "collapsed": true
   },
   "outputs": [],
   "source": []
  }
 ],
 "metadata": {
  "anaconda-cloud": {},
  "kernelspec": {
   "display_name": "Python [conda root]",
   "language": "python",
   "name": "conda-root-py"
  },
  "language_info": {
   "codemirror_mode": {
    "name": "ipython",
    "version": 3
   },
   "file_extension": ".py",
   "mimetype": "text/x-python",
   "name": "python",
   "nbconvert_exporter": "python",
   "pygments_lexer": "ipython3",
   "version": "3.5.2"
  }
 },
 "nbformat": 4,
 "nbformat_minor": 2
}
