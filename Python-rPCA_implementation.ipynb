{
 "cells": [
  {
   "cell_type": "code",
   "execution_count": null,
   "metadata": {
    "collapsed": true
   },
   "outputs": [],
   "source": [
    "import bisect\n",
    "import librosa\n",
    "import numpy as np\n",
    "from numpy.linalg import norm\n",
    "from numpy.linalg import svd \n",
    "from scipy.sparse.linalg import svds\n",
    "import scipy.io.wavfile as wavfile\n",
    "import rpca\n",
    "from models import *\n",
    "from evaluation import eval_result\n",
    "import header\n",
    "from separation import bss_eval_sources\n",
    "import time\n",
    "import pickle"
   ]
  },
  {
   "cell_type": "code",
   "execution_count": null,
   "metadata": {
    "collapsed": false
   },
   "outputs": [],
   "source": [
    "# Data_Path\n",
    "data_path = '../data/'\n",
    "\n"
   ]
  },
  {
   "cell_type": "code",
   "execution_count": null,
   "metadata": {
    "collapsed": false,
    "scrolled": true
   },
   "outputs": [],
   "source": [
    "data = header.Data(data_path)\n",
    "#valid_data = header.Data(valid_data_path)\n",
    "#test_data = header.Data(test_data_path)\n",
    "batch_size =  2\n",
    "total_batch =1\n",
    "#total_batch = len(data.wavfiles)/batch_size \n",
    "gain =1.5\n",
    "\n",
    "NSDR_dict = dict()\n",
    "sum_NSDR = 0\n",
    "sum_duration = 0\n",
    "\n",
    "\n",
    "for j in range(total_batch):\n",
    "    data_iter = data.batch_iter(batch_size)\n",
    "    mix_batch, music_batch, voice_batch, duration_batch, batch_file = next(data_iter)\n",
    "\n",
    "    start = time.time()\n",
    "    batch_NSDR = 0\n",
    "    for i in range(batch_size):\n",
    "        M_stft, L_output, S_output = separate_signal_with_RPCA(mix_batch[i])\n",
    "        X_sing, X_music = time_freq_masking(M_stft, L_output, S_output, gain)\n",
    "        X_sing_istft = librosa.istft(X_sing, hop_length=256)\n",
    "        X_music_istft = librosa.istft(X_music, hop_length=256)\n",
    "        nsdr = eval_result(voice_batch[i][:X_sing_istft.shape[-1]], X_sing_istft, mix_batch[i][:X_sing_istft.shape[-1]])\n",
    "        NSDR_dict[batch_file[i]] = (duration_batch[i], nsdr)\n",
    "        print(\"NSDR for {} : {}\".format(batch_file[i], nsdr))\n",
    "        batch_NSDR += nsdr * duration_batch[i]\n",
    "    sum_NSDR += batch_NSDR\n",
    "    sum_duration += sum(duration_batch)\n",
    "    GNSDR = batch_NSDR /sum(duration_batch)\n",
    "    print(\"GNSDR in the batch: {}\".format(GNSDR))\n",
    "    end = time.time()\n",
    "    average_time = (end - start)/sum(duration_batch)\n",
    "    print(\"average time taken in per clip: {}\".format(average_time))\n",
    "\n",
    "GNSDR_all = sum_NSDR /sum_duration\n",
    "print(\"Overall GNSDR: {}\".format(GNSDR_all))\n",
    "pickle.dump(NSDR_dict, open('NSDR_dictionary', 'wb'))"
   ]
  },
  {
   "cell_type": "code",
   "execution_count": null,
   "metadata": {
    "collapsed": true
   },
   "outputs": [],
   "source": []
  }
 ],
 "metadata": {
  "anaconda-cloud": {},
  "kernelspec": {
   "display_name": "Python [conda root]",
   "language": "python",
   "name": "conda-root-py"
  },
  "language_info": {
   "codemirror_mode": {
    "name": "ipython",
    "version": 3
   },
   "file_extension": ".py",
   "mimetype": "text/x-python",
   "name": "python",
   "nbconvert_exporter": "python",
   "pygments_lexer": "ipython3",
   "version": "3.5.4"
  }
 },
 "nbformat": 4,
 "nbformat_minor": 2
}
