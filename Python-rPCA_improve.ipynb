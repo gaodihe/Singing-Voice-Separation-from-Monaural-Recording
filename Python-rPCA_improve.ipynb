{
 "cells": [
  {
   "cell_type": "code",
   "execution_count": 1,
   "metadata": {
    "collapsed": true
   },
   "outputs": [],
   "source": [
    "import bisect\n",
    "import librosa\n",
    "import numpy as np\n",
    "from numpy.linalg import norm\n",
    "from numpy.linalg import svd \n",
    "from scipy.sparse.linalg import svds\n",
    "import scipy.io.wavfile as wavfile"
   ]
  },
  {
   "cell_type": "code",
   "execution_count": 4,
   "metadata": {
    "collapsed": true
   },
   "outputs": [],
   "source": [
    "import rpca"
   ]
  },
  {
   "cell_type": "code",
   "execution_count": 3,
   "metadata": {
    "collapsed": true
   },
   "outputs": [],
   "source": [
    "def load_data(path, filename, sampling_rate=16000, mix=False):\n",
    "    '''\n",
    "    Function to load the '.wav' data\n",
    "    @param path: str, where data is read from\n",
    "    @param filename: str, file name, should end in '.wav'\n",
    "    @param sampling rate: int, default is 16000. 22,050 is also a common value but not applicable to this project\n",
    "    @param mix: bool, if True, then the left sound track and right sound track are mixed to a mono track signal\n",
    "    '''\n",
    "    song = librosa.load(path + filename, sr = sampling_rate, mono=mix)[0]\n",
    "    if mix:\n",
    "        return song\n",
    "    else:\n",
    "        return song[0], song[1]\n",
    "    \n",
    "def save_data(path, filename, data, sampling_rate=16000):\n",
    "    wavfile.write(path+filename, rate=sampling_rate, data=data)"
   ]
  },
  {
   "cell_type": "code",
   "execution_count": 6,
   "metadata": {
    "collapsed": false
   },
   "outputs": [
    {
     "name": "stdout",
     "output_type": "stream",
     "text": [
      "frob_norm 25592.2494664\n",
      "two_norm 25589.5984847\n",
      "one_norm 2355268.6747\n",
      "info_norm 526.610206522\n",
      "gamma 0.1\n",
      "0.000549386592922\n",
      "0.000549386592922\n",
      "209\n"
     ]
    }
   ],
   "source": [
    "###test###\n",
    "\n",
    "import numpy as np\n",
    "\n",
    "n = 100\n",
    "r = 3\n",
    "np.random.seed(123)\n",
    "base = 100 + np.cumsum(np.random.randn(n, r), axis=0)\n",
    "scales = np.abs(np.random.randn(n, r))\n",
    "L = np.dot(base, scales.T)\n",
    "S = np.round(0.25 * np.random.randn(n, n))\n",
    "M = L + S\n",
    "\n",
    "L_hat, S_hat, r, n_iter = rpca.pcp_alm(M,500)\n",
    "print(np.max(np.abs(S - S_hat)))\n",
    "print(np.max(np.abs(L - L_hat)))\n",
    "print(n_iter)\n",
    "\n",
    "\n",
    "\n",
    "_, s, _ = np.linalg.svd(L, full_matrices=False)\n",
    "#print (s[s > 1e-11])\n",
    "\n",
    "_, s_hat, _ = np.linalg.svd(L_hat, full_matrices=False)\n",
    "#print (s_hat[s_hat > 1e-11])"
   ]
  },
  {
   "cell_type": "code",
   "execution_count": null,
   "metadata": {
    "collapsed": true
   },
   "outputs": [],
   "source": []
  }
 ],
 "metadata": {
  "kernelspec": {
   "display_name": "Python [default]",
   "language": "python",
   "name": "python3"
  },
  "language_info": {
   "codemirror_mode": {
    "name": "ipython",
    "version": 3
   },
   "file_extension": ".py",
   "mimetype": "text/x-python",
   "name": "python",
   "nbconvert_exporter": "python",
   "pygments_lexer": "ipython3",
   "version": "3.5.2"
  }
 },
 "nbformat": 4,
 "nbformat_minor": 1
}
