{
 "cells": [
  {
   "cell_type": "code",
   "execution_count": 1,
   "metadata": {
    "collapsed": true
   },
   "outputs": [],
   "source": [
    "import random\n",
    "import librosa\n",
    "import numpy as np\n",
    "import matplotlib.pyplot as plt\n",
    "import scipy as sp\n",
    "from os import walk"
   ]
  },
  {
   "cell_type": "code",
   "execution_count": 2,
   "metadata": {
    "collapsed": true
   },
   "outputs": [],
   "source": [
    "# A python implementation of the inexact_alm_rpca"
   ]
  },
  {
   "cell_type": "markdown",
   "metadata": {},
   "source": [
    "https://github.com/posenhuang/singingvoiceseparationrpca/blob/master/inexact_alm_rpca/inexact_alm_rpca.m"
   ]
  },
  {
   "cell_type": "code",
   "execution_count": 3,
   "metadata": {
    "collapsed": false,
    "scrolled": true
   },
   "outputs": [],
   "source": [
    "D = np.random.rand(5, 4)"
   ]
  },
  {
   "cell_type": "code",
   "execution_count": 4,
   "metadata": {
    "collapsed": false
   },
   "outputs": [],
   "source": [
    "m, n = D.shape"
   ]
  },
  {
   "cell_type": "code",
   "execution_count": 8,
   "metadata": {
    "collapsed": false
   },
   "outputs": [],
   "source": [
    "def implement_inexact_alm_rpca(D, Lambda=1/np.sqrt(m), tol=1e-7, maxIter=1000):\n",
    "    Y = D\n",
    "    norm_two = sp.linalg.svd(Y)[1][0] # largest singular value\n",
    "    norm_inf = sp.linalg.norm(Y, ord=np.inf, axis=None, keepdims=False)\n",
    "    dual_norm = max(norm_two, norm_nuclear)\n",
    "    Y = Y/dual_norm\n",
    "    \n",
    "    A_hat = np.zeros([m, n])\n",
    "    E_hat = np.zeros([m, n])\n",
    "    mu = 1.25/norm_two # can be tuned\n",
    "    mu_bar = mu * 1e7\n",
    "    rho = 1.5 # can be tuned\n",
    "    d_norm = sp.linalg.norm(Y, ord='fro')\n",
    "    \n",
    "    iter_count = 0\n",
    "    total_svd = 0\n",
    "    converged = False\n",
    "    stopCriterion = 1\n",
    "    sv = 10\n",
    "    \n",
    "    while not converged:\n",
    "        iter_count += 1\n",
    "        temp_T = D - A_hat + (1/mu)*Y\n",
    "        E_hat = np.max(temp_T - Lambda/mu, 0)\n",
    "        E_hat += np.min(temp_T + Lambda/mu, 0)\n",
    "        \n",
    "        U, s, V = sp.linalg.svd(D - E_hat + (1/mu) * Y, full_matrices=False)\n",
    "        svp = (s > 1/mu).sum()\n",
    "        if svp < sv:\n",
    "            sv = min(svp + 1, n)\n",
    "        else:\n",
    "            sv = min(svp + round(0.05 * n), n)\n",
    "\n",
    "        A_hat = U[:, :svp] * (np.diag(s[:svp] - 1/mu)) * V[:, :svp].T\n",
    "\n",
    "        total_svd += 1\n",
    "\n",
    "        Z = D - A_hat - E_hat\n",
    "\n",
    "        Y += mu * Z\n",
    "        mu = min(mu * rho, mu_bar)\n",
    "\n",
    "        stopCriterion = sp.linalg.norm(Z, ord='fro') / d_norm\n",
    "        if stopCriterion < tol:\n",
    "            converged = True\n",
    "\n",
    "        if total_svd % 10 == 0:\n",
    "            print(str(total_svd) + ' r(A) ' + str(np.linalg.matrix_rank(A_hat)))\n",
    "            print('|E|_0' + str((E_hat > 0).sum()))\n",
    "            print('stopCriterion:' + str(stopCriterion))\n",
    "\n",
    "        if not converged & iter_count >= maxIter:\n",
    "            print('Maximum iterations reached')\n",
    "            coverged = 1\n",
    "    return A_hat, E_hat, iter_count"
   ]
  },
  {
   "cell_type": "code",
   "execution_count": 5,
   "metadata": {
    "collapsed": false
   },
   "outputs": [],
   "source": [
    "Lambda=1/np.sqrt(m); tol=1e-7; maxIter=1000"
   ]
  },
  {
   "cell_type": "code",
   "execution_count": 6,
   "metadata": {
    "collapsed": false
   },
   "outputs": [
    {
     "name": "stdout",
     "output_type": "stream",
     "text": [
      "10 r(A) 4\n",
      "|E|_01\n",
      "stopCriterion:617.210465036\n",
      "20 r(A) 4\n",
      "|E|_01\n",
      "stopCriterion:8744184.66154\n",
      "30 r(A) 4\n",
      "|E|_01\n",
      "stopCriterion:45165827970.2\n",
      "40 r(A) 4\n",
      "|E|_02\n",
      "stopCriterion:9.09438039656e+12\n",
      "50 r(A) 3\n",
      "|E|_03\n",
      "stopCriterion:2.0462261655e+14\n",
      "60 r(A) 3\n",
      "|E|_02\n",
      "stopCriterion:5.20857075407e+21\n",
      "70 r(A) 1\n",
      "|E|_02\n",
      "stopCriterion:1.51914796099e+26\n",
      "80 r(A) 1\n",
      "|E|_01\n",
      "stopCriterion:7.60480565784e+30\n",
      "90 r(A) 1\n",
      "|E|_02\n",
      "stopCriterion:1.76292456245e+35\n",
      "100 r(A) 1\n",
      "|E|_03\n",
      "stopCriterion:4.22521948532e+37\n",
      "110 r(A) 1\n",
      "|E|_02\n",
      "stopCriterion:9.68222146607e+44\n",
      "120 r(A) 1\n",
      "|E|_03\n",
      "stopCriterion:2.53818914915e+50\n",
      "130 r(A) 1\n",
      "|E|_03\n",
      "stopCriterion:6.65371065153e+54\n",
      "140 r(A) 1\n",
      "|E|_02\n",
      "stopCriterion:4.82838513096e+58\n",
      "150 r(A) 1\n",
      "|E|_03\n",
      "stopCriterion:1.26452318777e+65\n",
      "160 r(A) 1\n",
      "|E|_04\n",
      "stopCriterion:2.16338298635e+64\n",
      "170 r(A) 1\n",
      "|E|_02\n",
      "stopCriterion:3.39442924897e+73\n",
      "180 r(A) 1\n",
      "|E|_02\n",
      "stopCriterion:1.11228634471e+78\n",
      "190 r(A) 1\n",
      "|E|_01\n",
      "stopCriterion:5.83825727482e+77\n",
      "200 r(A) 1\n",
      "|E|_01\n",
      "stopCriterion:2.38861673475e+88\n",
      "210 r(A) 1\n",
      "|E|_02\n",
      "stopCriterion:6.26161579065e+92\n",
      "220 r(A) 1\n",
      "|E|_00\n",
      "stopCriterion:4.10361239418e+97\n",
      "230 r(A) 1\n",
      "|E|_01\n",
      "stopCriterion:1.34467170885e+102\n",
      "240 r(A) 1\n",
      "|E|_03\n",
      "stopCriterion:2.20311012773e+106\n",
      "250 r(A) 1\n",
      "|E|_02\n",
      "stopCriterion:9.02393908358e+110\n",
      "260 r(A) 1\n",
      "|E|_04\n",
      "stopCriterion:9.4622859486e+115\n",
      "270 r(A) 1\n",
      "|E|_02\n",
      "stopCriterion:6.0882167732e+113\n",
      "280 r(A) 1\n",
      "|E|_01\n",
      "stopCriterion:1.01600521736e+125\n",
      "290 r(A) 1\n",
      "|E|_01\n",
      "stopCriterion:4.25205047816e+129\n",
      "300 r(A) 1\n",
      "|E|_01\n",
      "stopCriterion:1.32554929878e+134\n",
      "310 r(A) 1\n",
      "|E|_01\n",
      "stopCriterion:5.41194574797e+138\n",
      "320 r(A) 1\n",
      "|E|_01\n",
      "stopCriterion:7.10010564334e+142\n",
      "330 r(A) 1\n",
      "|E|_03\n",
      "stopCriterion:1.58110914445e+144\n",
      "340 r(A) 1\n",
      "|E|_03\n",
      "stopCriterion:1.21978872168e+153\n",
      "350 r(A) 1\n",
      "|E|_03\n",
      "stopCriterion:inf\n",
      "360 r(A) 1\n",
      "|E|_03\n",
      "stopCriterion:inf\n",
      "370 r(A) 1\n",
      "|E|_04\n",
      "stopCriterion:inf\n",
      "380 r(A) 1\n",
      "|E|_01\n",
      "stopCriterion:inf\n",
      "390 r(A) 1\n",
      "|E|_03\n",
      "stopCriterion:inf\n",
      "400 r(A) 1\n",
      "|E|_01\n",
      "stopCriterion:inf\n",
      "410 r(A) 1\n",
      "|E|_00\n",
      "stopCriterion:inf\n",
      "420 r(A) 1\n",
      "|E|_02\n",
      "stopCriterion:inf\n",
      "430 r(A) 1\n",
      "|E|_02\n",
      "stopCriterion:inf\n",
      "440 r(A) 1\n",
      "|E|_02\n",
      "stopCriterion:inf\n",
      "450 r(A) 1\n",
      "|E|_02\n",
      "stopCriterion:inf\n",
      "460 r(A) 1\n",
      "|E|_01\n",
      "stopCriterion:inf\n",
      "470 r(A) 1\n",
      "|E|_02\n",
      "stopCriterion:inf\n",
      "480 r(A) 1\n",
      "|E|_02\n",
      "stopCriterion:inf\n",
      "490 r(A) 1\n",
      "|E|_03\n",
      "stopCriterion:inf\n",
      "500 r(A) 1\n",
      "|E|_03\n",
      "stopCriterion:inf\n",
      "510 r(A) 1\n",
      "|E|_02\n",
      "stopCriterion:inf\n",
      "520 r(A) 1\n",
      "|E|_02\n",
      "stopCriterion:inf\n",
      "530 r(A) 1\n",
      "|E|_04\n",
      "stopCriterion:inf\n",
      "540 r(A) 1\n",
      "|E|_03\n",
      "stopCriterion:inf\n",
      "550 r(A) 1\n",
      "|E|_01\n",
      "stopCriterion:inf\n",
      "560 r(A) 1\n",
      "|E|_04\n",
      "stopCriterion:inf\n",
      "570 r(A) 1\n",
      "|E|_01\n",
      "stopCriterion:inf\n",
      "580 r(A) 1\n",
      "|E|_00\n",
      "stopCriterion:inf\n",
      "590 r(A) 1\n",
      "|E|_03\n",
      "stopCriterion:inf\n",
      "600 r(A) 1\n",
      "|E|_02\n",
      "stopCriterion:inf\n",
      "610 r(A) 1\n",
      "|E|_03\n",
      "stopCriterion:inf\n",
      "620 r(A) 1\n",
      "|E|_03\n",
      "stopCriterion:inf\n",
      "630 r(A) 1\n",
      "|E|_01\n",
      "stopCriterion:inf\n",
      "640 r(A) 1\n",
      "|E|_02\n",
      "stopCriterion:inf\n",
      "650 r(A) 1\n",
      "|E|_01\n",
      "stopCriterion:inf\n",
      "660 r(A) 1\n",
      "|E|_04\n",
      "stopCriterion:inf\n",
      "670 r(A) 1\n",
      "|E|_04\n",
      "stopCriterion:inf\n"
     ]
    },
    {
     "name": "stderr",
     "output_type": "stream",
     "text": [
      "/anaconda/lib/python3.5/site-packages/ipykernel/__main__.py:35: RuntimeWarning: overflow encountered in multiply\n",
      "/anaconda/lib/python3.5/site-packages/ipykernel/__main__.py:26: RuntimeWarning: invalid value encountered in add\n"
     ]
    },
    {
     "ename": "ValueError",
     "evalue": "array must not contain infs or NaNs",
     "output_type": "error",
     "traceback": [
      "\u001b[0;31m---------------------------------------------------------------------------\u001b[0m",
      "\u001b[0;31mValueError\u001b[0m                                Traceback (most recent call last)",
      "\u001b[0;32m<ipython-input-6-8a4993338a3d>\u001b[0m in \u001b[0;36m<module>\u001b[0;34m()\u001b[0m\n\u001b[1;32m     24\u001b[0m     \u001b[0mE_hat\u001b[0m \u001b[0;34m+=\u001b[0m \u001b[0mnp\u001b[0m\u001b[0;34m.\u001b[0m\u001b[0mmin\u001b[0m\u001b[0;34m(\u001b[0m\u001b[0mtemp_T\u001b[0m \u001b[0;34m+\u001b[0m \u001b[0mLambda\u001b[0m\u001b[0;34m/\u001b[0m\u001b[0mmu\u001b[0m\u001b[0;34m,\u001b[0m \u001b[0;36m0\u001b[0m\u001b[0;34m)\u001b[0m\u001b[0;34m\u001b[0m\u001b[0m\n\u001b[1;32m     25\u001b[0m \u001b[0;34m\u001b[0m\u001b[0m\n\u001b[0;32m---> 26\u001b[0;31m     \u001b[0mU\u001b[0m\u001b[0;34m,\u001b[0m \u001b[0ms\u001b[0m\u001b[0;34m,\u001b[0m \u001b[0mV\u001b[0m \u001b[0;34m=\u001b[0m \u001b[0msp\u001b[0m\u001b[0;34m.\u001b[0m\u001b[0mlinalg\u001b[0m\u001b[0;34m.\u001b[0m\u001b[0msvd\u001b[0m\u001b[0;34m(\u001b[0m\u001b[0mD\u001b[0m \u001b[0;34m-\u001b[0m \u001b[0mE_hat\u001b[0m \u001b[0;34m+\u001b[0m \u001b[0;34m(\u001b[0m\u001b[0;36m1\u001b[0m\u001b[0;34m/\u001b[0m\u001b[0mmu\u001b[0m\u001b[0;34m)\u001b[0m \u001b[0;34m*\u001b[0m \u001b[0mY\u001b[0m\u001b[0;34m,\u001b[0m \u001b[0mfull_matrices\u001b[0m\u001b[0;34m=\u001b[0m\u001b[0;32mFalse\u001b[0m\u001b[0;34m)\u001b[0m\u001b[0;34m\u001b[0m\u001b[0m\n\u001b[0m\u001b[1;32m     27\u001b[0m     \u001b[0msvp\u001b[0m \u001b[0;34m=\u001b[0m \u001b[0;34m(\u001b[0m\u001b[0ms\u001b[0m \u001b[0;34m>\u001b[0m \u001b[0;36m1\u001b[0m\u001b[0;34m/\u001b[0m\u001b[0mmu\u001b[0m\u001b[0;34m)\u001b[0m\u001b[0;34m.\u001b[0m\u001b[0msum\u001b[0m\u001b[0;34m(\u001b[0m\u001b[0;34m)\u001b[0m\u001b[0;34m\u001b[0m\u001b[0m\n\u001b[1;32m     28\u001b[0m \u001b[0;34m\u001b[0m\u001b[0m\n",
      "\u001b[0;32m/anaconda/lib/python3.5/site-packages/scipy/linalg/decomp_svd.py\u001b[0m in \u001b[0;36msvd\u001b[0;34m(a, full_matrices, compute_uv, overwrite_a, check_finite, lapack_driver)\u001b[0m\n\u001b[1;32m     94\u001b[0m \u001b[0;34m\u001b[0m\u001b[0m\n\u001b[1;32m     95\u001b[0m     \"\"\"\n\u001b[0;32m---> 96\u001b[0;31m     \u001b[0ma1\u001b[0m \u001b[0;34m=\u001b[0m \u001b[0m_asarray_validated\u001b[0m\u001b[0;34m(\u001b[0m\u001b[0ma\u001b[0m\u001b[0;34m,\u001b[0m \u001b[0mcheck_finite\u001b[0m\u001b[0;34m=\u001b[0m\u001b[0mcheck_finite\u001b[0m\u001b[0;34m)\u001b[0m\u001b[0;34m\u001b[0m\u001b[0m\n\u001b[0m\u001b[1;32m     97\u001b[0m     \u001b[0;32mif\u001b[0m \u001b[0mlen\u001b[0m\u001b[0;34m(\u001b[0m\u001b[0ma1\u001b[0m\u001b[0;34m.\u001b[0m\u001b[0mshape\u001b[0m\u001b[0;34m)\u001b[0m \u001b[0;34m!=\u001b[0m \u001b[0;36m2\u001b[0m\u001b[0;34m:\u001b[0m\u001b[0;34m\u001b[0m\u001b[0m\n\u001b[1;32m     98\u001b[0m         \u001b[0;32mraise\u001b[0m \u001b[0mValueError\u001b[0m\u001b[0;34m(\u001b[0m\u001b[0;34m'expected matrix'\u001b[0m\u001b[0;34m)\u001b[0m\u001b[0;34m\u001b[0m\u001b[0m\n",
      "\u001b[0;32m/anaconda/lib/python3.5/site-packages/scipy/_lib/_util.py\u001b[0m in \u001b[0;36m_asarray_validated\u001b[0;34m(a, check_finite, sparse_ok, objects_ok, mask_ok, as_inexact)\u001b[0m\n\u001b[1;32m    226\u001b[0m             \u001b[0;32mraise\u001b[0m \u001b[0mValueError\u001b[0m\u001b[0;34m(\u001b[0m\u001b[0;34m'masked arrays are not supported'\u001b[0m\u001b[0;34m)\u001b[0m\u001b[0;34m\u001b[0m\u001b[0m\n\u001b[1;32m    227\u001b[0m     \u001b[0mtoarray\u001b[0m \u001b[0;34m=\u001b[0m \u001b[0mnp\u001b[0m\u001b[0;34m.\u001b[0m\u001b[0masarray_chkfinite\u001b[0m \u001b[0;32mif\u001b[0m \u001b[0mcheck_finite\u001b[0m \u001b[0;32melse\u001b[0m \u001b[0mnp\u001b[0m\u001b[0;34m.\u001b[0m\u001b[0masarray\u001b[0m\u001b[0;34m\u001b[0m\u001b[0m\n\u001b[0;32m--> 228\u001b[0;31m     \u001b[0ma\u001b[0m \u001b[0;34m=\u001b[0m \u001b[0mtoarray\u001b[0m\u001b[0;34m(\u001b[0m\u001b[0ma\u001b[0m\u001b[0;34m)\u001b[0m\u001b[0;34m\u001b[0m\u001b[0m\n\u001b[0m\u001b[1;32m    229\u001b[0m     \u001b[0;32mif\u001b[0m \u001b[0;32mnot\u001b[0m \u001b[0mobjects_ok\u001b[0m\u001b[0;34m:\u001b[0m\u001b[0;34m\u001b[0m\u001b[0m\n\u001b[1;32m    230\u001b[0m         \u001b[0;32mif\u001b[0m \u001b[0ma\u001b[0m\u001b[0;34m.\u001b[0m\u001b[0mdtype\u001b[0m \u001b[0;32mis\u001b[0m \u001b[0mnp\u001b[0m\u001b[0;34m.\u001b[0m\u001b[0mdtype\u001b[0m\u001b[0;34m(\u001b[0m\u001b[0;34m'O'\u001b[0m\u001b[0;34m)\u001b[0m\u001b[0;34m:\u001b[0m\u001b[0;34m\u001b[0m\u001b[0m\n",
      "\u001b[0;32m/anaconda/lib/python3.5/site-packages/numpy/lib/function_base.py\u001b[0m in \u001b[0;36masarray_chkfinite\u001b[0;34m(a, dtype, order)\u001b[0m\n\u001b[1;32m   1031\u001b[0m     \u001b[0;32mif\u001b[0m \u001b[0ma\u001b[0m\u001b[0;34m.\u001b[0m\u001b[0mdtype\u001b[0m\u001b[0;34m.\u001b[0m\u001b[0mchar\u001b[0m \u001b[0;32min\u001b[0m \u001b[0mtypecodes\u001b[0m\u001b[0;34m[\u001b[0m\u001b[0;34m'AllFloat'\u001b[0m\u001b[0;34m]\u001b[0m \u001b[0;32mand\u001b[0m \u001b[0;32mnot\u001b[0m \u001b[0mnp\u001b[0m\u001b[0;34m.\u001b[0m\u001b[0misfinite\u001b[0m\u001b[0;34m(\u001b[0m\u001b[0ma\u001b[0m\u001b[0;34m)\u001b[0m\u001b[0;34m.\u001b[0m\u001b[0mall\u001b[0m\u001b[0;34m(\u001b[0m\u001b[0;34m)\u001b[0m\u001b[0;34m:\u001b[0m\u001b[0;34m\u001b[0m\u001b[0m\n\u001b[1;32m   1032\u001b[0m         raise ValueError(\n\u001b[0;32m-> 1033\u001b[0;31m             \"array must not contain infs or NaNs\")\n\u001b[0m\u001b[1;32m   1034\u001b[0m     \u001b[0;32mreturn\u001b[0m \u001b[0ma\u001b[0m\u001b[0;34m\u001b[0m\u001b[0m\n\u001b[1;32m   1035\u001b[0m \u001b[0;34m\u001b[0m\u001b[0m\n",
      "\u001b[0;31mValueError\u001b[0m: array must not contain infs or NaNs"
     ]
    }
   ],
   "source": [
    "Y = D\n",
    "norm_two = sp.linalg.svd(Y)[1][0] # largest singular value\n",
    "norm_inf = sp.linalg.norm(Y, ord=np.inf)\n",
    "dual_norm = max(norm_two, norm_inf)\n",
    "Y = Y/dual_norm\n",
    "\n",
    "A_hat = np.zeros([m, n])\n",
    "E_hat = np.zeros([m, n])\n",
    "mu = 1.25/norm_two # can be tuned\n",
    "mu_bar = mu * 1e7\n",
    "rho = 1.5 # can be tuned\n",
    "d_norm = sp.linalg.norm(Y, ord='fro')\n",
    "\n",
    "iter_count = 0\n",
    "total_svd = 0\n",
    "converged = False\n",
    "stopCriterion = 1\n",
    "#sv = 10\n",
    "\n",
    "while not converged:\n",
    "    iter_count += 1\n",
    "    temp_T = D - A_hat + (1/mu)*Y\n",
    "    E_hat = np.max(temp_T - Lambda/mu, 0)\n",
    "    E_hat += np.min(temp_T + Lambda/mu, 0)\n",
    "\n",
    "    U, s, V = sp.linalg.svd(D - E_hat + (1/mu) * Y, full_matrices=False)\n",
    "    svp = (s > 1/mu).sum()\n",
    "\n",
    "    A_hat = np.dot(np.dot(U[:, :svp], (np.diag(s[:svp] - 1/mu))), V[:, :svp].T)\n",
    "\n",
    "    total_svd += 1\n",
    "\n",
    "    Z = D - A_hat - E_hat\n",
    "\n",
    "    Y += mu * Z\n",
    "    mu = min(mu * rho, mu_bar)\n",
    "\n",
    "    stopCriterion = sp.linalg.norm(Z, ord='fro') / d_norm\n",
    "    if stopCriterion < tol:\n",
    "        converged = True\n",
    "\n",
    "    if total_svd % 10 == 0:\n",
    "        print(str(total_svd) + ' r(A) ' + str(np.linalg.matrix_rank(A_hat)))\n",
    "        print('|E|_0' + str((E_hat > 0).sum()))\n",
    "        print('stopCriterion:' + str(stopCriterion))\n",
    "\n",
    "    if (not converged) & (iter_count >= maxIter):\n",
    "        print('Maximum iterations reached')\n",
    "        coverged = True"
   ]
  },
  {
   "cell_type": "code",
   "execution_count": 26,
   "metadata": {
    "collapsed": false,
    "scrolled": true
   },
   "outputs": [
    {
     "data": {
      "text/plain": [
       "array([[-0.40909314,  0.6300933 ],\n",
       "       [-0.4436389 ,  0.21702848],\n",
       "       [-0.45819373,  0.18680076],\n",
       "       [-0.49003762, -0.33473086],\n",
       "       [-0.43098604, -0.63948557]])"
      ]
     },
     "execution_count": 26,
     "metadata": {},
     "output_type": "execute_result"
    }
   ],
   "source": [
    "U[:, :svp]"
   ]
  },
  {
   "cell_type": "code",
   "execution_count": 27,
   "metadata": {
    "collapsed": false
   },
   "outputs": [
    {
     "data": {
      "text/plain": [
       "array([[ 10.80530975,   0.        ],\n",
       "       [  0.        ,   0.24705808]])"
      ]
     },
     "execution_count": 27,
     "metadata": {},
     "output_type": "execute_result"
    }
   ],
   "source": [
    "(np.diag(s[:svp] - 1/mu))"
   ]
  },
  {
   "cell_type": "code",
   "execution_count": 28,
   "metadata": {
    "collapsed": false
   },
   "outputs": [
    {
     "ename": "ValueError",
     "evalue": "operands could not be broadcast together with shapes (5,2) (2,2) ",
     "output_type": "error",
     "traceback": [
      "\u001b[0;31m---------------------------------------------------------------------------\u001b[0m",
      "\u001b[0;31mValueError\u001b[0m                                Traceback (most recent call last)",
      "\u001b[0;32m<ipython-input-28-778841170c95>\u001b[0m in \u001b[0;36m<module>\u001b[0;34m()\u001b[0m\n\u001b[0;32m----> 1\u001b[0;31m \u001b[0mU\u001b[0m\u001b[0;34m[\u001b[0m\u001b[0;34m:\u001b[0m\u001b[0;34m,\u001b[0m \u001b[0;34m:\u001b[0m\u001b[0msvp\u001b[0m\u001b[0;34m]\u001b[0m \u001b[0;34m*\u001b[0m \u001b[0;34m(\u001b[0m\u001b[0mnp\u001b[0m\u001b[0;34m.\u001b[0m\u001b[0mdiag\u001b[0m\u001b[0;34m(\u001b[0m\u001b[0ms\u001b[0m\u001b[0;34m[\u001b[0m\u001b[0;34m:\u001b[0m\u001b[0msvp\u001b[0m\u001b[0;34m]\u001b[0m \u001b[0;34m-\u001b[0m \u001b[0;36m1\u001b[0m\u001b[0;34m/\u001b[0m\u001b[0mmu\u001b[0m\u001b[0;34m)\u001b[0m\u001b[0;34m)\u001b[0m\u001b[0;34m\u001b[0m\u001b[0m\n\u001b[0m",
      "\u001b[0;31mValueError\u001b[0m: operands could not be broadcast together with shapes (5,2) (2,2) "
     ]
    }
   ],
   "source": [
    "U[:, :svp] * (np.diag(s[:svp] - 1/mu))"
   ]
  },
  {
   "cell_type": "code",
   "execution_count": 29,
   "metadata": {
    "collapsed": false
   },
   "outputs": [
    {
     "data": {
      "text/plain": [
       "array([[-4.42037808,  0.15566964],\n",
       "       [-4.79365575,  0.05361864],\n",
       "       [-4.95092521,  0.04615064],\n",
       "       [-5.29500825, -0.08269796],\n",
       "       [-4.65693763, -0.15799008]])"
      ]
     },
     "execution_count": 29,
     "metadata": {},
     "output_type": "execute_result"
    }
   ],
   "source": [
    "np.dot(U[:, :svp], (np.diag(s[:svp] - 1/mu)))"
   ]
  },
  {
   "cell_type": "code",
   "execution_count": 25,
   "metadata": {
    "collapsed": false
   },
   "outputs": [
    {
     "data": {
      "text/plain": [
       "array([[ 0.76446481, -0.34951878, -0.53929191,  0.05093532],\n",
       "       [ 0.07149138,  0.88060082, -0.46217079,  0.07635018]])"
      ]
     },
     "execution_count": 25,
     "metadata": {},
     "output_type": "execute_result"
    }
   ],
   "source": [
    "V[:, :svp].T"
   ]
  },
  {
   "cell_type": "code",
   "execution_count": 20,
   "metadata": {
    "collapsed": false
   },
   "outputs": [
    {
     "data": {
      "text/plain": [
       "array([[-0.40909314,  0.6300933 ,  0.65142197,  0.08997076],\n",
       "       [-0.4436389 ,  0.21702848, -0.56596806,  0.15915765],\n",
       "       [-0.45819373,  0.18680076, -0.41208655,  0.0695892 ],\n",
       "       [-0.49003762, -0.33473086,  0.11889627, -0.79241023],\n",
       "       [-0.43098604, -0.63948557,  0.26716647,  0.57776939]])"
      ]
     },
     "execution_count": 20,
     "metadata": {},
     "output_type": "execute_result"
    }
   ],
   "source": [
    "U"
   ]
  },
  {
   "cell_type": "code",
   "execution_count": 21,
   "metadata": {
    "collapsed": false
   },
   "outputs": [
    {
     "data": {
      "text/plain": [
       "array([[ 0.76446481,  0.07149138,  0.38926333, -0.50887778],\n",
       "       [-0.34951878,  0.88060082,  0.21554288, -0.23647429],\n",
       "       [-0.53929191, -0.46217079,  0.33360334, -0.61989614],\n",
       "       [ 0.05093532,  0.07635018, -0.83109816, -0.54849986]])"
      ]
     },
     "execution_count": 21,
     "metadata": {},
     "output_type": "execute_result"
    }
   ],
   "source": [
    "V"
   ]
  },
  {
   "cell_type": "code",
   "execution_count": 23,
   "metadata": {
    "collapsed": false
   },
   "outputs": [
    {
     "data": {
      "text/plain": [
       "array([ 11.65676093,   1.09850926,   0.57723258,   0.45756402])"
      ]
     },
     "execution_count": 23,
     "metadata": {},
     "output_type": "execute_result"
    }
   ],
   "source": [
    "s"
   ]
  },
  {
   "cell_type": "code",
   "execution_count": 24,
   "metadata": {
    "collapsed": false
   },
   "outputs": [
    {
     "data": {
      "text/plain": [
       "array([[-4.76870092,  0.69216333,  0.37602199,  0.04116738],\n",
       "       [-5.17139261,  0.2384078 , -0.32669521,  0.07282482],\n",
       "       [-5.34105481,  0.20520237, -0.23786978,  0.03184151],\n",
       "       [-5.71225136, -0.36770495,  0.0686308 , -0.36257841],\n",
       "       [-5.02390121, -0.70248082,  0.15421719,  0.26436649]])"
      ]
     },
     "execution_count": 24,
     "metadata": {},
     "output_type": "execute_result"
    }
   ],
   "source": [
    "U * s"
   ]
  },
  {
   "cell_type": "code",
   "execution_count": 14,
   "metadata": {
    "collapsed": false
   },
   "outputs": [
    {
     "data": {
      "text/plain": [
       "array([[ 0.76446481,  0.07149138,  0.38926333, -0.50887778],\n",
       "       [-0.34951878,  0.88060082,  0.21554288, -0.23647429],\n",
       "       [-0.53929191, -0.46217079,  0.33360334, -0.61989614],\n",
       "       [ 0.05093532,  0.07635018, -0.83109816, -0.54849986]])"
      ]
     },
     "execution_count": 14,
     "metadata": {},
     "output_type": "execute_result"
    }
   ],
   "source": [
    "V"
   ]
  },
  {
   "cell_type": "code",
   "execution_count": 13,
   "metadata": {
    "collapsed": false
   },
   "outputs": [
    {
     "data": {
      "text/plain": [
       "array([[ 0.76446481, -0.34951878, -0.53929191,  0.05093532],\n",
       "       [ 0.07149138,  0.88060082, -0.46217079,  0.07635018]])"
      ]
     },
     "execution_count": 13,
     "metadata": {},
     "output_type": "execute_result"
    }
   ],
   "source": [
    "V[:, :svp].T"
   ]
  },
  {
   "cell_type": "code",
   "execution_count": 12,
   "metadata": {
    "collapsed": false
   },
   "outputs": [
    {
     "data": {
      "text/plain": [
       "array([[-0.40909314,  0.6300933 ],\n",
       "       [-0.4436389 ,  0.21702848],\n",
       "       [-0.45819373,  0.18680076],\n",
       "       [-0.49003762, -0.33473086],\n",
       "       [-0.43098604, -0.63948557]])"
      ]
     },
     "execution_count": 12,
     "metadata": {},
     "output_type": "execute_result"
    }
   ],
   "source": [
    "U[:, :svp]"
   ]
  },
  {
   "cell_type": "code",
   "execution_count": 11,
   "metadata": {
    "collapsed": false
   },
   "outputs": [
    {
     "data": {
      "text/plain": [
       "array([ 10.80530975,   0.24705808])"
      ]
     },
     "execution_count": 11,
     "metadata": {},
     "output_type": "execute_result"
    }
   ],
   "source": [
    "s[:svp] - 1/mu"
   ]
  },
  {
   "cell_type": "code",
   "execution_count": 10,
   "metadata": {
    "collapsed": false
   },
   "outputs": [
    {
     "data": {
      "text/plain": [
       "array([[ 10.80530975,   0.        ],\n",
       "       [  0.        ,   0.24705808]])"
      ]
     },
     "execution_count": 10,
     "metadata": {},
     "output_type": "execute_result"
    }
   ],
   "source": [
    "np.diag(s[:svp] - 1/mu)"
   ]
  },
  {
   "cell_type": "code",
   "execution_count": 7,
   "metadata": {
    "collapsed": false
   },
   "outputs": [
    {
     "data": {
      "text/plain": [
       "array([ 11.65676093,   1.09850926])"
      ]
     },
     "execution_count": 7,
     "metadata": {},
     "output_type": "execute_result"
    }
   ],
   "source": [
    "s[:svp]"
   ]
  },
  {
   "cell_type": "code",
   "execution_count": 17,
   "metadata": {
    "collapsed": false
   },
   "outputs": [
    {
     "data": {
      "text/plain": [
       "array([ True,  True,  True, False], dtype=bool)"
      ]
     },
     "execution_count": 17,
     "metadata": {},
     "output_type": "execute_result"
    }
   ],
   "source": [
    "s > 1/mu"
   ]
  },
  {
   "cell_type": "code",
   "execution_count": 13,
   "metadata": {
    "collapsed": false
   },
   "outputs": [
    {
     "data": {
      "text/plain": [
       "array([[-0.26688076,  0.39419956, -0.00435179],\n",
       "       [-0.34335735,  0.65592237, -0.51759186],\n",
       "       [-0.43626387, -0.2285003 ,  0.26644846],\n",
       "       [-0.46029445, -0.59777301, -0.61020528],\n",
       "       [-0.63928339,  0.06948088,  0.53734017]])"
      ]
     },
     "execution_count": 13,
     "metadata": {},
     "output_type": "execute_result"
    }
   ],
   "source": [
    "U[:, :svp]"
   ]
  },
  {
   "cell_type": "code",
   "execution_count": 14,
   "metadata": {
    "collapsed": false
   },
   "outputs": [
    {
     "data": {
      "text/plain": [
       "array([ 4.55001963,  0.79042564,  0.04573409])"
      ]
     },
     "execution_count": 14,
     "metadata": {},
     "output_type": "execute_result"
    }
   ],
   "source": [
    "s[:svp] - 1/mu"
   ]
  },
  {
   "cell_type": "code",
   "execution_count": 15,
   "metadata": {
    "collapsed": false
   },
   "outputs": [
    {
     "data": {
      "text/plain": [
       "array([[ 0.26446964, -0.18453825,  0.75822658,  0.56665148],\n",
       "       [ 0.03722954, -0.53486915, -0.59248956,  0.60123629],\n",
       "       [-0.54892328, -0.71577552,  0.26936012, -0.33733331]])"
      ]
     },
     "execution_count": 15,
     "metadata": {},
     "output_type": "execute_result"
    }
   ],
   "source": [
    "V[:, :svp].T"
   ]
  },
  {
   "cell_type": "code",
   "execution_count": 12,
   "metadata": {
    "collapsed": false
   },
   "outputs": [
    {
     "data": {
      "text/plain": [
       "array([[-0.41329907,  0.11326803,  0.43469793,  1.23738851],\n",
       "       [-0.43235804,  0.1184913 ,  0.45474369,  1.29444972],\n",
       "       [-0.33752916,  0.09250266,  0.35500497,  1.01053868],\n",
       "       [-0.23039413,  0.06314142,  0.24232295,  0.68978389],\n",
       "       [-0.19641793,  0.05382996,  0.20658761,  0.58806153]])"
      ]
     },
     "execution_count": 12,
     "metadata": {},
     "output_type": "execute_result"
    }
   ],
   "source": [
    "A_hat"
   ]
  },
  {
   "cell_type": "markdown",
   "metadata": {},
   "source": [
    "def choosvd(n, d):\n",
    "    if n <= 100:\n",
    "        if d/n <= 0.02:\n",
    "            y = 1\n",
    "        else:\n",
    "            y = 0\n",
    "    elif n <= 200:\n",
    "        if d/n <= 0.06:\n",
    "            y = 1\n",
    "        else:\n",
    "            y = 0\n",
    "    elif n <= 300:\n",
    "        if d/n <= 0.26:\n",
    "            y = 1\n",
    "        else:\n",
    "            y = 0\n",
    "    elif n <= 400:\n",
    "        if d/n <= 0.28:\n",
    "            y = 1\n",
    "        else:\n",
    "            y = 0\n",
    "    elif n <= 500:\n",
    "        if d/n <= 0.34:\n",
    "            y = 1\n",
    "        else:\n",
    "            y = 0\n",
    "    elif n <= 300:\n",
    "        if d/n <= 0.38:\n",
    "            y = 1\n",
    "        else:\n",
    "            y = 0\n",
    "    return y"
   ]
  },
  {
   "cell_type": "code",
   "execution_count": null,
   "metadata": {
    "collapsed": true
   },
   "outputs": [],
   "source": []
  },
  {
   "cell_type": "code",
   "execution_count": null,
   "metadata": {
    "collapsed": true
   },
   "outputs": [],
   "source": []
  },
  {
   "cell_type": "code",
   "execution_count": null,
   "metadata": {
    "collapsed": true
   },
   "outputs": [],
   "source": []
  },
  {
   "cell_type": "code",
   "execution_count": 3,
   "metadata": {
    "collapsed": true
   },
   "outputs": [],
   "source": [
    "file_path = '../data/MIR-1K_for_MIREX/Wavfile/'"
   ]
  },
  {
   "cell_type": "code",
   "execution_count": 4,
   "metadata": {
    "collapsed": false
   },
   "outputs": [],
   "source": [
    "aa = librosa.load(file_path+'yifen_5_11.wav', sr=16000, mono=False)"
   ]
  },
  {
   "cell_type": "code",
   "execution_count": 5,
   "metadata": {
    "collapsed": false
   },
   "outputs": [
    {
     "data": {
      "text/plain": [
       "2"
      ]
     },
     "execution_count": 5,
     "metadata": {},
     "output_type": "execute_result"
    }
   ],
   "source": [
    "len(aa)"
   ]
  },
  {
   "cell_type": "code",
   "execution_count": 6,
   "metadata": {
    "collapsed": false
   },
   "outputs": [
    {
     "data": {
      "text/plain": [
       "array([ 0.06491089,  0.04870605,  0.02584839, ..., -0.14379883,\n",
       "       -0.12634277, -0.1270752 ], dtype=float32)"
      ]
     },
     "execution_count": 6,
     "metadata": {},
     "output_type": "execute_result"
    }
   ],
   "source": [
    "aa[0][0]"
   ]
  },
  {
   "cell_type": "code",
   "execution_count": 7,
   "metadata": {
    "collapsed": false
   },
   "outputs": [
    {
     "data": {
      "text/plain": [
       "array([-0.00048828, -0.01309204, -0.0100708 , ...,  0.00143433,\n",
       "        0.00149536,  0.00149536], dtype=float32)"
      ]
     },
     "execution_count": 7,
     "metadata": {},
     "output_type": "execute_result"
    }
   ],
   "source": [
    "aa[0][1]"
   ]
  },
  {
   "cell_type": "code",
   "execution_count": 9,
   "metadata": {
    "collapsed": false
   },
   "outputs": [
    {
     "data": {
      "text/plain": [
       "71953"
      ]
     },
     "execution_count": 9,
     "metadata": {},
     "output_type": "execute_result"
    }
   ],
   "source": [
    "len(aa[0][0])"
   ]
  },
  {
   "cell_type": "code",
   "execution_count": 8,
   "metadata": {
    "collapsed": false
   },
   "outputs": [
    {
     "data": {
      "image/png": "[encoded data removed]",
      "text/plain": [
       "<matplotlib.figure.Figure at 0x110fdd1d0>"
      ]
     },
     "metadata": {},
     "output_type": "display_data"
    }
   ],
   "source": [
    "plt.plot(aa[0][0])\n",
    "plt.show()"
   ]
  },
  {
   "cell_type": "code",
   "execution_count": null,
   "metadata": {
    "collapsed": true
   },
   "outputs": [],
   "source": []
  }
 ],
 "metadata": {
  "anaconda-cloud": {},
  "kernelspec": {
   "display_name": "Python [default]",
   "language": "python",
   "name": "python3"
  },
  "language_info": {
   "codemirror_mode": {
    "name": "ipython",
    "version": 3
   },
   "file_extension": ".py",
   "mimetype": "text/x-python",
   "name": "python",
   "nbconvert_exporter": "python",
   "pygments_lexer": "ipython3",
   "version": "3.5.2"
  }
 },
 "nbformat": 4,
 "nbformat_minor": 1
}
